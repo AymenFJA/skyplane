{
 "cells": [
  {
   "cell_type": "code",
   "execution_count": null,
   "metadata": {},
   "outputs": [],
   "source": [
    "import numpy as np\n",
    "import pandas as pd\n",
    "import matplotlib.pyplot as plt\n",
    "from skylark.utils import logger\n",
    "\n",
    "import pickle\n",
    "import json\n",
    "import re\n",
    "from pathlib import Path\n",
    "\n",
    "data_dir = Path(globals()[\"_dh\"][0]).parent / \"data\"\n",
    "figure_dir = data_dir / \"figures\" / \"throughput_gcp_premium_standard\"\n",
    "figure_dir.mkdir(exist_ok=True)\n",
    "\n",
    "plt.style.use(\"seaborn-bright\")\n",
    "plt.set_cmap(\"plasma\")"
   ]
  },
  {
   "cell_type": "code",
   "execution_count": null,
   "metadata": {},
   "outputs": [],
   "source": [
    "date = \"2021-12-03_01-08-21\"\n",
    "with (data_dir / \"throughput\" / \"iperf3\" / f\"throughput_{date}.json\").open(\"rb\") as f:\n",
    "    data = json.load(f)\n",
    "df = pd.DataFrame(data)\n",
    "df.to_csv(data_dir / \"throughput\" / \"iperf3\" / f\"throughput_{date}.csv\")\n",
    "df[\"throughput_gbps\"] = df.throughput_sent / 1e9\n",
    "df[\"src_network_tier\"] = df[\"src_network_tier\"].astype(\"category\")\n",
    "df[\"dst_network_tier\"] = df[\"dst_network_tier\"].astype(\"category\")\n",
    "\n",
    "# df.keys()\n",
    "# Index(['congestion', 'src', 'dst', 'src_instance_class', 'dst_instance_class',\n",
    "#        'src_network_tier', 'dst_network_tier', 'throughput_sent',\n",
    "#        'throughput_received', 'throughput_gbps'],\n",
    "#       dtype='object')"
   ]
  },
  {
   "cell_type": "code",
   "execution_count": null,
   "metadata": {},
   "outputs": [],
   "source": [
    "# plot bar chart with (src -> dst) throughput. one plot per src. show separate bar for each src_network_tier and dst_network_tier\n",
    "# show two plots, one for aws dst and one for gcp dst\n",
    "import seaborn as sns\n",
    "\n",
    "# set style to ggplot\n",
    "plt.style.use(\"ggplot\")\n",
    "\n",
    "df_plot = df.copy()\n",
    "for src, group in df_plot.groupby(\"src\"):\n",
    "    group.sort_values(\"throughput_gbps\", ascending=False, inplace=True)\n",
    "    fig, ax = plt.subplots(2, 1, figsize=(8, 8))\n",
    "    group_aws = group[group[\"dst\"].str.startswith(\"aws\")]\n",
    "\n",
    "    hue = \"src_network_tier\" if src.startswith(\"gcp\") else \"dst_network_tier\"\n",
    "\n",
    "    sns.barplot(y=\"dst\", x=\"throughput_gbps\", hue=hue, data=group_aws, ax=ax[0], orient=\"h\")\n",
    "    ax[0].set_title(f\"Throughput from {src} to destination\")\n",
    "    ax[0].set_xlabel(\"Throughput (Gbps)\")\n",
    "    ax[0].set_ylabel(\"Destination\")\n",
    "    group_gcp = group[group[\"dst\"].str.startswith(\"gcp\")]\n",
    "    sns.barplot(y=\"dst\", x=\"throughput_gbps\", hue=hue, data=group_gcp, ax=ax[1], orient=\"h\")\n",
    "    ax[1].set_xlabel(\"Throughput (Gbps)\")\n",
    "    ax[1].set_ylabel(\"Destination\")\n",
    "\n",
    "    # tight layout\n",
    "    fig.tight_layout()\n",
    "    fig.savefig(figure_dir / f\"{src}_throughput.pdf\", bbox_inches=\"tight\")"
   ]
  },
  {
   "cell_type": "code",
   "execution_count": null,
   "metadata": {},
   "outputs": [],
   "source": []
  }
 ],
 "metadata": {
  "interpreter": {
   "hash": "c30f2af5f468e7f5b45bcc30fca5f4886c90d54777aed916ed5f6294dfb24bf2"
  },
  "kernelspec": {
   "display_name": "Python 3 (ipykernel)",
   "language": "python",
   "name": "python3"
  },
  "language_info": {
   "codemirror_mode": {
    "name": "ipython",
    "version": 3
   },
   "file_extension": ".py",
   "mimetype": "text/x-python",
   "name": "python",
   "nbconvert_exporter": "python",
   "pygments_lexer": "ipython3",
   "version": "3.8.12"
  }
 },
 "nbformat": 4,
 "nbformat_minor": 4
}
