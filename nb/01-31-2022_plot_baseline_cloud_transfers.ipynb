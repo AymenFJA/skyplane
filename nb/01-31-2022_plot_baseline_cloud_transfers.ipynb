{
 "cells": [
  {
   "cell_type": "code",
   "execution_count": null,
   "metadata": {},
   "outputs": [],
   "source": [
    "%config InlineBackend.figure_format = 'svg'\n",
    "from datetime import datetime\n",
    "import pickle\n",
    "import json\n",
    "import pandas as pd\n",
    "import numpy as np\n",
    "import matplotlib.pyplot as plt\n",
    "\n",
    "plt.rcParams[\"figure.figsize\"] = [10, 5]\n",
    "from tqdm.notebook import tqdm"
   ]
  },
  {
   "cell_type": "code",
   "execution_count": null,
   "metadata": {},
   "outputs": [],
   "source": [
    "X = [\"GCP E->W\", \"AWS E->W\", \"GCP S3e->GCPe\", \"GCP S3e->GCPw\", \"Az S3e->Aze\"]\n",
    "Native_rows = [8519.68, 3897.28, 776.96, 3465.6, 56052]  # Mbps\n",
    "Skylark_rows = [31.88, 26.37, 33.29, 25.61, 40.76]  # Gbps\n",
    "for _i in range(0, len(Skylark_rows)):\n",
    "    Skylark_rows[_i] *= 1024  # Mbps\n",
    "X_axis = np.arange(len(X))\n",
    "\n",
    "plt.bar(X_axis - 0.2, Native_rows, 0.4, label=\"Native\")\n",
    "plt.bar(X_axis + 0.2, Skylark_rows, 0.4, label=\"Skylark\")\n",
    "\n",
    "plt.xticks(X_axis, X)\n",
    "plt.xlabel(\"GCP Data Transfer / AWS DatSync / azcopy\")\n",
    "plt.ylabel(\"Throughput (Mbps)\")\n",
    "plt.title(\"Skylark (VS) Native cloud serices\")\n",
    "plt.rc(\"axes\", labelsize=14)  # fontsize of the x and y labels\n",
    "plt.legend()\n",
    "# plt.show()\n",
    "plt.savefig(\"figures/skylark-vs-native.pdf\", dpi=1200)"
   ]
  },
  {
   "cell_type": "code",
   "execution_count": null,
   "metadata": {},
   "outputs": [],
   "source": []
  }
 ],
 "metadata": {
  "kernelspec": {
   "display_name": "Python 3",
   "language": "python",
   "name": "python3"
  },
  "language_info": {
   "codemirror_mode": {
    "name": "ipython",
    "version": 3
   },
   "file_extension": ".py",
   "mimetype": "text/x-python",
   "name": "python",
   "nbconvert_exporter": "python",
   "pygments_lexer": "ipython3",
   "version": "3.6.8"
  }
 },
 "nbformat": 4,
 "nbformat_minor": 2
}
