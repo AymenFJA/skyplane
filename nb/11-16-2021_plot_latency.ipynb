{
 "cells": [
  {
   "cell_type": "code",
   "execution_count": null,
   "id": "e5837f74-02b0-4a84-8c53-0e0e5c9d1894",
   "metadata": {},
   "outputs": [],
   "source": [
    "import numpy as np\n",
    "import matplotlib.pyplot as plt\n",
    "from skylark.utils import logger\n",
    "\n",
    "import pickle\n",
    "import json\n",
    "import pandas as pd\n",
    "import re\n",
    "from pathlib import Path\n",
    "\n",
    "data_dir = Path(globals()[\"_dh\"][0]).parent / \"data\"\n",
    "figure_dir = data_dir / \"figures\"\n",
    "figure_dir.mkdir(exist_ok=True)\n",
    "\n",
    "plt.style.use(\"seaborn-bright\")\n",
    "plt.set_cmap(\"plasma\")"
   ]
  },
  {
   "cell_type": "code",
   "execution_count": null,
   "id": "dee595ce",
   "metadata": {},
   "outputs": [],
   "source": [
    "def parse_ping_result(string):\n",
    "    \"\"\"make regex with named groups\"\"\"\n",
    "    regex = r\"rtt min/avg/max/mdev = (?P<min>\\d+\\.\\d+)/(?P<avg>\\d+\\.\\d+)/(?P<max>\\d+\\.\\d+)/(?P<mdev>\\d+\\.\\d+) ms\"\n",
    "    m = re.search(regex, string)\n",
    "    return dict(min=float(m.group(\"min\")), avg=float(m.group(\"avg\")), max=float(m.group(\"max\")), mdev=float(m.group(\"mdev\")))\n",
    "\n",
    "\n",
    "with (data_dir / \"latency.json\").open(\"r\") as f:\n",
    "    df = pd.DataFrame(json.load(f))\n",
    "df = df.set_index([\"src\", \"dst\"])\n",
    "df"
   ]
  },
  {
   "cell_type": "code",
   "execution_count": null,
   "id": "fbafe0a7-d7a8-43a1-ae78-97474dee78f7",
   "metadata": {},
   "outputs": [],
   "source": [
    "regions = list(sorted(df.index.get_level_values(0).unique()))\n",
    "avg_latencies = np.zeros((len(regions), len(regions)))\n",
    "for i, src_region in enumerate(regions):\n",
    "    for j, dst_region in enumerate(regions):\n",
    "        if src_region != dst_region:\n",
    "            row = df.loc[(src_region, dst_region)]\n",
    "            avg_latencies[i, j] = row[\"avg\"]\n",
    "            # avg_latencies[j, i] = row['mdev']\n",
    "\n",
    "# plot min, avg, max, mdev\n",
    "fig, ax = plt.subplots(1, 1, figsize=(10, 10))\n",
    "ax.imshow(avg_latencies)\n",
    "ax.set_title(\"Average latency (ms)\")\n",
    "\n",
    "# show colorbar\n",
    "cbar = ax.figure.colorbar(ax.images[0], ax=ax)\n",
    "cbar.ax.set_ylabel(\"latency (ms)\", rotation=-90, va=\"bottom\")\n",
    "\n",
    "# add labels to axes with region names\n",
    "ax.set_xticks(np.arange(len(regions)))\n",
    "ax.set_yticks(np.arange(len(regions)))\n",
    "ax.set_xticklabels(regions)\n",
    "ax.set_yticklabels(regions)\n",
    "\n",
    "# rotate x-axis labels\n",
    "for tick in ax.get_xticklabels():\n",
    "    tick.set_rotation(90)\n",
    "\n",
    "# label each point with rounded average latency, invert text color for dark background\n",
    "for i, row in enumerate(avg_latencies):\n",
    "    for j, col in enumerate(row):\n",
    "        ax.text(j, i, int(col), ha=\"center\", va=\"center\", color=\"white\" if avg_latencies[i, j] < avg_latencies.mean() else \"black\")\n",
    "\n",
    "# set white background\n",
    "fig.patch.set_facecolor(\"white\")\n",
    "\n",
    "plt.show()\n",
    "fig.savefig(figure_dir / \"latency_avg.png\", dpi=300, bbox_inches=\"tight\")\n",
    "fig.savefig(figure_dir / \"latency_avg.pdf\", bbox_inches=\"tight\")"
   ]
  }
 ],
 "metadata": {
  "interpreter": {
   "hash": "c30f2af5f468e7f5b45bcc30fca5f4886c90d54777aed916ed5f6294dfb24bf2"
  },
  "kernelspec": {
   "display_name": "Python 3.8.11 64-bit ('base': conda)",
   "name": "python3"
  },
  "language_info": {
   "codemirror_mode": {
    "name": "ipython",
    "version": 3
   },
   "file_extension": ".py",
   "mimetype": "text/x-python",
   "name": "python",
   "nbconvert_exporter": "python",
   "pygments_lexer": "ipython3",
   "version": "3.8.12"
  }
 },
 "nbformat": 4,
 "nbformat_minor": 5
}
