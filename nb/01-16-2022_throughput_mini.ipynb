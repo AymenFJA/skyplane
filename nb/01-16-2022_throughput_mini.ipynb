{
 "cells": [
  {
   "cell_type": "code",
   "execution_count": null,
   "metadata": {},
   "outputs": [],
   "source": [
    "import pandas as pd\n",
    "import matplotlib.pyplot as plt\n",
    "from pathlib import Path"
   ]
  },
  {
   "cell_type": "code",
   "execution_count": null,
   "metadata": {},
   "outputs": [],
   "source": [
    "# from skylark.benchmark.utils import provision, split_list\n",
    "\n",
    "\n",
    "# def count_pairs(n):\n",
    "#     pairs = []\n",
    "#     for i in range(n):\n",
    "#         for j in range(n):\n",
    "#             if i != j:\n",
    "#                 pairs.append((i, j))\n",
    "#     num_groups = len(split_list(pairs))\n",
    "#     return num_groups\n",
    "\n",
    "\n",
    "# x = range(1, 90)\n",
    "# y1 = [i ** 2 for i in x]\n",
    "# y2 = [count_pairs(i) for i in x]\n",
    "\n",
    "# # plot y1 and y2 against x (white background)\n",
    "# fig, ax = plt.subplots(figsize=(10, 6))\n",
    "# df = pd.DataFrame({\"x\": x, \"y1\": y1, \"y2\": y2})\n",
    "# df.plot(x=\"x\", y=[\"y1\", \"y2\"], ax=ax)"
   ]
  },
  {
   "cell_type": "code",
   "execution_count": null,
   "metadata": {},
   "outputs": [],
   "source": [
    "fname = \"/home/ubuntu/skylark/data/logs/throughput_grid/2022.01.17_08.58_vainly-self-supporting-oro-spillway_5s_128c/throughput.csv\"\n",
    "df = pd.read_csv(fname)\n",
    "df"
   ]
  },
  {
   "cell_type": "code",
   "execution_count": null,
   "metadata": {},
   "outputs": [],
   "source": [
    "# plot line plot of iperf3_connections versus throughput_recieved\n",
    "# one bar per src-dst pair\n",
    "fig, ax = plt.subplots(figsize=(10, 6))\n",
    "for key, group_df in df.groupby([\"src_region\", \"dst_region\"]):\n",
    "    label = f\"{key[0]} => {key[1]}\"\n",
    "    group_df[\"throughput_recieved\"] = group_df[\"throughput_recieved\"] / 1024 / 1024 / 1024\n",
    "    group_df.plot(x=\"iperf3_connections\", y=\"throughput_recieved\", kind=\"line\", label=key, ax=ax)\n",
    "fig.patch.set_facecolor(\"white\")\n",
    "\n",
    "# hide legend\n",
    "ax.legend().set_visible(False)\n",
    "ax.set_xlabel(\"Number of iperf3 connections\")\n",
    "ax.set_ylabel(\"Throughput received (GB)\")\n",
    "ax.set_title(\"Throughput vs. Number of iperf3 connections\")\n",
    "\n",
    "fig.savefig(Path(fname).parent / \"throughput_vs_iperf3_connections.png\")"
   ]
  },
  {
   "cell_type": "code",
   "execution_count": null,
   "metadata": {},
   "outputs": [],
   "source": []
  }
 ],
 "metadata": {
  "interpreter": {
   "hash": "e615813c5489b1590d5f8b2d596a39a5f3baf5ccbb6dde5ecf5546914cc6cb8b"
  },
  "kernelspec": {
   "display_name": "Python 3.8.12 64-bit ('base': conda)",
   "language": "python",
   "name": "python3"
  },
  "language_info": {
   "codemirror_mode": {
    "name": "ipython",
    "version": 3
   },
   "file_extension": ".py",
   "mimetype": "text/x-python",
   "name": "python",
   "nbconvert_exporter": "python",
   "pygments_lexer": "ipython3",
   "version": "3.8.12"
  }
 },
 "nbformat": 4,
 "nbformat_minor": 2
}
