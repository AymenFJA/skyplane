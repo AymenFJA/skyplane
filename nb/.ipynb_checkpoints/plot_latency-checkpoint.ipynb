{
 "cells": [
  {
   "cell_type": "code",
   "execution_count": 6,
   "id": "e5837f74-02b0-4a84-8c53-0e0e5c9d1894",
   "metadata": {},
   "outputs": [],
   "source": [
    "import numpy as np\n",
    "import pandas as pd\n",
    "import matplotlib.pyplot as plt\n",
    "\n",
    "import pickle\n",
    "import json\n",
    "from pathlib import Path\n",
    "\n",
    "data_dir = Path(globals()['_dh'][0]).parent / 'data'"
   ]
  },
  {
   "cell_type": "code",
   "execution_count": 7,
   "id": "546925d5-dde1-446a-a5ba-7fee91751ff1",
   "metadata": {},
   "outputs": [],
   "source": [
    "with (data_dir/\"logs\"/\"latency_pairs.pickle\").open('rb') as f:\n",
    "    latency_pairs = pickle.load(f)"
   ]
  },
  {
   "cell_type": "code",
   "execution_count": 14,
   "id": "fbafe0a7-d7a8-43a1-ae78-97474dee78f7",
   "metadata": {},
   "outputs": [],
   "source": [
    "regions = sorted(list(set([x for x, y in latency_pairs.keys()] + [y for x, y in latency_pairs.keys()])))\n",
    "latencies = np.zeros((len(regions), len(regions)))\n",
    "for i, src_region in enumerate(regions):\n",
    "    for j, dst_region in enumerate(regions):\n",
    "        key = (src_region, dst_region)"
   ]
  },
  {
   "cell_type": "code",
   "execution_count": 18,
   "id": "e689e83f-1fc0-4cda-816f-39267553e91d",
   "metadata": {},
   "outputs": [
    {
     "name": "stdout",
     "output_type": "stream",
     "text": [
      "rtt min/avg/max/mdev = 20.956/20.978/21.054/0.022 ms\n",
      "rtt min/avg/max/mdev = 61.727/61.758/61.894/0.253 ms\n",
      "rtt min/avg/max/mdev = 48.752/49.137/50.199/0.664 ms\n",
      "rtt min/avg/max/mdev = 144.767/144.790/144.973/0.047 ms\n",
      "rtt min/avg/max/mdev = 148.631/148.696/149.192/0.526 ms\n",
      "rtt min/avg/max/mdev = 20.963/20.976/21.002/0.136 ms\n",
      "rtt min/avg/max/mdev = 67.223/67.236/67.253/0.317 ms\n",
      "rtt min/avg/max/mdev = 54.532/54.541/54.552/0.202 ms\n",
      "rtt min/avg/max/mdev = 136.335/136.376/136.785/0.405 ms\n",
      "rtt min/avg/max/mdev = 143.761/143.773/143.789/0.423 ms\n",
      "rtt min/avg/max/mdev = 61.721/61.739/61.773/0.124 ms\n",
      "rtt min/avg/max/mdev = 67.224/67.241/67.272/0.343 ms\n",
      "rtt min/avg/max/mdev = 10.845/10.883/11.092/0.092 ms\n",
      "rtt min/avg/max/mdev = 74.524/74.556/74.809/0.226 ms\n",
      "rtt min/avg/max/mdev = 88.360/88.381/88.488/0.380 ms\n",
      "rtt min/avg/max/mdev = 50.016/50.037/50.072/0.306 ms\n",
      "rtt min/avg/max/mdev = 54.424/54.444/54.485/0.308 ms\n",
      "rtt min/avg/max/mdev = 10.855/10.875/10.959/0.130 ms\n",
      "rtt min/avg/max/mdev = 84.975/85.000/85.091/0.386 ms\n",
      "rtt min/avg/max/mdev = 98.695/98.711/98.727/0.157 ms\n",
      "rtt min/avg/max/mdev = 144.759/144.796/145.053/0.277 ms\n",
      "rtt min/avg/max/mdev = 137.799/137.815/137.840/0.473 ms\n",
      "rtt min/avg/max/mdev = 74.631/74.658/74.882/0.243 ms\n",
      "rtt min/avg/max/mdev = 84.964/84.985/85.033/0.399 ms\n",
      "rtt min/avg/max/mdev = 14.274/14.302/14.443/0.056 ms\n",
      "rtt min/avg/max/mdev = 148.331/148.345/148.359/0.471 ms\n",
      "rtt min/avg/max/mdev = 143.741/143.752/143.763/0.464 ms\n",
      "rtt min/avg/max/mdev = 88.426/88.537/88.924/0.356 ms\n",
      "rtt min/avg/max/mdev = 98.771/98.874/99.194/0.307 ms\n",
      "rtt min/avg/max/mdev = 14.290/14.319/14.511/0.166 ms\n"
     ]
    }
   ],
   "source": [
    "print(\"\\n\".join(latency_pairs.values()))"
   ]
  },
  {
   "cell_type": "code",
   "execution_count": null,
   "id": "9a8e4dc3-0b58-48bc-addb-2e9997def8a1",
   "metadata": {},
   "outputs": [],
   "source": []
  }
 ],
 "metadata": {
  "kernelspec": {
   "display_name": "Python 3 (ipykernel)",
   "language": "python",
   "name": "python3"
  },
  "language_info": {
   "codemirror_mode": {
    "name": "ipython",
    "version": 3
   },
   "file_extension": ".py",
   "mimetype": "text/x-python",
   "name": "python",
   "nbconvert_exporter": "python",
   "pygments_lexer": "ipython3",
   "version": "3.8.11"
  }
 },
 "nbformat": 4,
 "nbformat_minor": 5
}
