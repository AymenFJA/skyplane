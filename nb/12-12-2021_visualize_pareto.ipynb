{
 "cells": [
  {
   "cell_type": "code",
   "execution_count": null,
   "id": "f1af4e24-f32e-46da-9afe-379127564498",
   "metadata": {},
   "outputs": [],
   "source": [
    "import numpy as np\n",
    "import pandas as pd\n",
    "import matplotlib.pyplot as plt\n",
    "from skylark.utils import logger\n",
    "\n",
    "import seaborn as sns\n",
    "\n",
    "import pickle\n",
    "import requests\n",
    "import json\n",
    "import re\n",
    "from pathlib import Path\n",
    "\n",
    "data_dir = Path(globals()[\"_dh\"][0]).parent / \"data\"\n",
    "figure_dir = data_dir / \"figures\" / \"pareto_speedups\"\n",
    "figure_dir.mkdir(exist_ok=True)\n",
    "\n",
    "plt.style.use(\"seaborn-bright\")\n",
    "plt.set_cmap(\"plasma\")"
   ]
  },
  {
   "cell_type": "code",
   "execution_count": null,
   "id": "8d3ee216",
   "metadata": {},
   "outputs": [],
   "source": [
    "df"
   ]
  },
  {
   "cell_type": "code",
   "execution_count": null,
   "id": "99fec3e3-9ddf-4c13-9fd9-db5db82bc1cd",
   "metadata": {},
   "outputs": [],
   "source": [
    "df = pd.read_csv(\"../data/pareto.csv\")\n",
    "# gcp:us-central1-c -> \"gcp:us\"\n",
    "# aws:us-east-1 -> \"aws:us\"\n",
    "df[\"src_region\"] = df[\"src\"].apply(lambda x: x.split(\"-\")[0])\n",
    "df[\"dst_region\"] = df[\"dst\"].apply(lambda x: x.split(\"-\")[0])\n",
    "\n",
    "# plot scatter w/ cost_factor vs throughput_speedup, color by src with legend\n",
    "for src_region, df_src in df.groupby(\"src\"):\n",
    "    fig, ax = plt.subplots(figsize=(8, 6))\n",
    "    # sort rows by cost factor\n",
    "    df.sort_values(by=\"throughput_speedup\", inplace=True)\n",
    "    sns.lineplot(x=\"throughput_speedup\", y=\"cost_factor\", hue=\"dst\", data=df_src, ax=ax)\n",
    "    ax.legend(loc=\"lower center\", bbox_to_anchor=(0.5, -0.45), ncol=3)\n",
    "    ax.set_xlabel(\"Throughput Speedup\")\n",
    "    ax.set_ylabel(\"Cost Factor\")\n",
    "    ax.set_title(f\"Source: {src_region}\")\n",
    "\n",
    "    # white background (no transparency)\n",
    "    fig.set_facecolor(\"white\")\n",
    "\n",
    "    fig.savefig(figure_dir / f\"{src_region}.png\", bbox_inches=\"tight\", dpi=300)\n",
    "    fig.savefig(figure_dir / f\"{src_region}.pdf\", bbox_inches=\"tight\")"
   ]
  },
  {
   "cell_type": "code",
   "execution_count": null,
   "id": "9611760c-f9b8-47a1-87f6-b595c9d494b0",
   "metadata": {},
   "outputs": [],
   "source": []
  }
 ],
 "metadata": {
  "kernelspec": {
   "display_name": "Python 3 (ipykernel)",
   "language": "python",
   "name": "python3"
  },
  "language_info": {
   "codemirror_mode": {
    "name": "ipython",
    "version": 3
   },
   "file_extension": ".py",
   "mimetype": "text/x-python",
   "name": "python",
   "nbconvert_exporter": "python",
   "pygments_lexer": "ipython3",
   "version": "3.8.12"
  }
 },
 "nbformat": 4,
 "nbformat_minor": 5
}
